{
 "cells": [
  {
   "cell_type": "markdown",
   "id": "609409ce",
   "metadata": {},
   "source": [
    "# Import Data "
   ]
  },
  {
   "cell_type": "code",
   "execution_count": 3,
   "id": "679834a9",
   "metadata": {},
   "outputs": [],
   "source": [
    "import pandas as pd"
   ]
  },
  {
   "cell_type": "code",
   "execution_count": 4,
   "id": "343eca50",
   "metadata": {},
   "outputs": [
    {
     "data": {
      "text/html": [
       "<div>\n",
       "<style scoped>\n",
       "    .dataframe tbody tr th:only-of-type {\n",
       "        vertical-align: middle;\n",
       "    }\n",
       "\n",
       "    .dataframe tbody tr th {\n",
       "        vertical-align: top;\n",
       "    }\n",
       "\n",
       "    .dataframe thead th {\n",
       "        text-align: right;\n",
       "    }\n",
       "</style>\n",
       "<table border=\"1\" class=\"dataframe\">\n",
       "  <thead>\n",
       "    <tr style=\"text-align: right;\">\n",
       "      <th></th>\n",
       "      <th>Stage.Name</th>\n",
       "      <th>Group</th>\n",
       "      <th>ig_name</th>\n",
       "      <th>Followers</th>\n",
       "      <th>Gender.x</th>\n",
       "      <th>Full.Name</th>\n",
       "      <th>Korean.Name</th>\n",
       "      <th>K.Stage.Name</th>\n",
       "      <th>Date.of.Birth</th>\n",
       "      <th>Debut</th>\n",
       "      <th>...</th>\n",
       "      <th>Country</th>\n",
       "      <th>Second.Country</th>\n",
       "      <th>Height</th>\n",
       "      <th>Weight</th>\n",
       "      <th>Birthplace</th>\n",
       "      <th>Other.Group</th>\n",
       "      <th>Former.Group</th>\n",
       "      <th>Gender.y</th>\n",
       "      <th>age</th>\n",
       "      <th>year.career</th>\n",
       "    </tr>\n",
       "  </thead>\n",
       "  <tbody>\n",
       "    <tr>\n",
       "      <th>0</th>\n",
       "      <td>Ace</td>\n",
       "      <td>VAV</td>\n",
       "      <td>ace.vav</td>\n",
       "      <td>335439</td>\n",
       "      <td>Boy</td>\n",
       "      <td>Jang Wooyoung</td>\n",
       "      <td>장우영</td>\n",
       "      <td>에이스</td>\n",
       "      <td>1992-08-28</td>\n",
       "      <td>2015-10-31</td>\n",
       "      <td>...</td>\n",
       "      <td>South Korea</td>\n",
       "      <td>NaN</td>\n",
       "      <td>177.0</td>\n",
       "      <td>63.0</td>\n",
       "      <td>NaN</td>\n",
       "      <td>NaN</td>\n",
       "      <td>NaN</td>\n",
       "      <td>M</td>\n",
       "      <td>30</td>\n",
       "      <td>7</td>\n",
       "    </tr>\n",
       "    <tr>\n",
       "      <th>1</th>\n",
       "      <td>Ahra</td>\n",
       "      <td>FAVORITE</td>\n",
       "      <td>ahra.view</td>\n",
       "      <td>12342</td>\n",
       "      <td>Girl</td>\n",
       "      <td>Go Ahra</td>\n",
       "      <td>고아라</td>\n",
       "      <td>아라</td>\n",
       "      <td>2001-02-21</td>\n",
       "      <td>2017-07-05</td>\n",
       "      <td>...</td>\n",
       "      <td>South Korea</td>\n",
       "      <td>NaN</td>\n",
       "      <td>NaN</td>\n",
       "      <td>NaN</td>\n",
       "      <td>Yeosu</td>\n",
       "      <td>NaN</td>\n",
       "      <td>NaN</td>\n",
       "      <td>F</td>\n",
       "      <td>22</td>\n",
       "      <td>6</td>\n",
       "    </tr>\n",
       "    <tr>\n",
       "      <th>2</th>\n",
       "      <td>Ahyoung</td>\n",
       "      <td>DAL SHABET</td>\n",
       "      <td>a_young91</td>\n",
       "      <td>10479</td>\n",
       "      <td>Girl</td>\n",
       "      <td>Cho Jayoung</td>\n",
       "      <td>조자영</td>\n",
       "      <td>아영</td>\n",
       "      <td>1991-05-26</td>\n",
       "      <td>2011-01-03</td>\n",
       "      <td>...</td>\n",
       "      <td>South Korea</td>\n",
       "      <td>NaN</td>\n",
       "      <td>NaN</td>\n",
       "      <td>NaN</td>\n",
       "      <td>Seoul</td>\n",
       "      <td>NaN</td>\n",
       "      <td>NaN</td>\n",
       "      <td>F</td>\n",
       "      <td>32</td>\n",
       "      <td>12</td>\n",
       "    </tr>\n",
       "    <tr>\n",
       "      <th>3</th>\n",
       "      <td>Alice</td>\n",
       "      <td>HELLO VENUS</td>\n",
       "      <td>hv_alice</td>\n",
       "      <td>11135</td>\n",
       "      <td>Girl</td>\n",
       "      <td>Song Joohee</td>\n",
       "      <td>송주희</td>\n",
       "      <td>앨리스</td>\n",
       "      <td>1990-03-21</td>\n",
       "      <td>2012-05-09</td>\n",
       "      <td>...</td>\n",
       "      <td>South Korea</td>\n",
       "      <td>NaN</td>\n",
       "      <td>166.0</td>\n",
       "      <td>47.0</td>\n",
       "      <td>Wonju</td>\n",
       "      <td>NaN</td>\n",
       "      <td>NaN</td>\n",
       "      <td>F</td>\n",
       "      <td>33</td>\n",
       "      <td>11</td>\n",
       "    </tr>\n",
       "    <tr>\n",
       "      <th>4</th>\n",
       "      <td>Amber</td>\n",
       "      <td>F(X)</td>\n",
       "      <td>ajol_llama</td>\n",
       "      <td>5519743</td>\n",
       "      <td>Girl</td>\n",
       "      <td>Amber Josephine Liu</td>\n",
       "      <td>엠버 조세핀 리우</td>\n",
       "      <td>엠버</td>\n",
       "      <td>1992-09-18</td>\n",
       "      <td>2009-09-05</td>\n",
       "      <td>...</td>\n",
       "      <td>USA</td>\n",
       "      <td>Taiwan</td>\n",
       "      <td>167.0</td>\n",
       "      <td>NaN</td>\n",
       "      <td>Los Angeles</td>\n",
       "      <td>NaN</td>\n",
       "      <td>NaN</td>\n",
       "      <td>F</td>\n",
       "      <td>30</td>\n",
       "      <td>13</td>\n",
       "    </tr>\n",
       "  </tbody>\n",
       "</table>\n",
       "<p>5 rows × 21 columns</p>\n",
       "</div>"
      ],
      "text/plain": [
       "  Stage.Name        Group     ig_name  Followers Gender.x  \\\n",
       "0        Ace          VAV     ace.vav     335439      Boy   \n",
       "1       Ahra     FAVORITE   ahra.view      12342     Girl   \n",
       "2    Ahyoung   DAL SHABET   a_young91      10479     Girl   \n",
       "3      Alice  HELLO VENUS    hv_alice      11135     Girl   \n",
       "4      Amber         F(X)  ajol_llama    5519743     Girl   \n",
       "\n",
       "             Full.Name Korean.Name K.Stage.Name Date.of.Birth       Debut  \\\n",
       "0        Jang Wooyoung         장우영          에이스    1992-08-28  2015-10-31   \n",
       "1              Go Ahra         고아라           아라    2001-02-21  2017-07-05   \n",
       "2          Cho Jayoung         조자영           아영    1991-05-26  2011-01-03   \n",
       "3          Song Joohee         송주희          앨리스    1990-03-21  2012-05-09   \n",
       "4  Amber Josephine Liu   엠버 조세핀 리우           엠버    1992-09-18  2009-09-05   \n",
       "\n",
       "   ...      Country Second.Country Height  Weight   Birthplace Other.Group  \\\n",
       "0  ...  South Korea            NaN  177.0    63.0          NaN         NaN   \n",
       "1  ...  South Korea            NaN    NaN     NaN        Yeosu         NaN   \n",
       "2  ...  South Korea            NaN    NaN     NaN        Seoul         NaN   \n",
       "3  ...  South Korea            NaN  166.0    47.0        Wonju         NaN   \n",
       "4  ...          USA         Taiwan  167.0     NaN  Los Angeles         NaN   \n",
       "\n",
       "  Former.Group Gender.y age  year.career  \n",
       "0          NaN        M  30            7  \n",
       "1          NaN        F  22            6  \n",
       "2          NaN        F  32           12  \n",
       "3          NaN        F  33           11  \n",
       "4          NaN        F  30           13  \n",
       "\n",
       "[5 rows x 21 columns]"
      ]
     },
     "execution_count": 4,
     "metadata": {},
     "output_type": "execute_result"
    }
   ],
   "source": [
    "variable = pd.read_csv(r\"/Users/test/Downloads/kpop_idol_followers.csv\") \n",
    "variable.head()"
   ]
  },
  {
   "cell_type": "markdown",
   "id": "cd787209",
   "metadata": {},
   "source": [
    "# Data Cleaning"
   ]
  },
  {
   "cell_type": "code",
   "execution_count": 17,
   "id": "ffa526d0",
   "metadata": {},
   "outputs": [],
   "source": [
    "# View All the Columns"
   ]
  },
  {
   "cell_type": "code",
   "execution_count": 4,
   "id": "cb7c4b93",
   "metadata": {},
   "outputs": [
    {
     "data": {
      "text/plain": [
       "Index(['Stage.Name', 'Group', 'ig_name', 'Followers', 'Gender.x', 'Full.Name',\n",
       "       'Korean.Name', 'K.Stage.Name', 'Date.of.Birth', 'Debut', 'Company',\n",
       "       'Country', 'Second.Country', 'Height', 'Weight', 'Birthplace',\n",
       "       'Other.Group', 'Former.Group', 'Gender.y', 'age', 'year.career'],\n",
       "      dtype='object')"
      ]
     },
     "execution_count": 4,
     "metadata": {},
     "output_type": "execute_result"
    }
   ],
   "source": [
    "variable.columns"
   ]
  },
  {
   "cell_type": "code",
   "execution_count": 18,
   "id": "5d5645ff",
   "metadata": {},
   "outputs": [],
   "source": [
    "# Check Data Types"
   ]
  },
  {
   "cell_type": "code",
   "execution_count": 5,
   "id": "464e7156",
   "metadata": {},
   "outputs": [
    {
     "data": {
      "text/plain": [
       "Stage.Name         object\n",
       "Group              object\n",
       "ig_name            object\n",
       "Followers           int64\n",
       "Gender.x           object\n",
       "Full.Name          object\n",
       "Korean.Name        object\n",
       "K.Stage.Name       object\n",
       "Date.of.Birth      object\n",
       "Debut              object\n",
       "Company            object\n",
       "Country            object\n",
       "Second.Country     object\n",
       "Height            float64\n",
       "Weight            float64\n",
       "Birthplace         object\n",
       "Other.Group        object\n",
       "Former.Group       object\n",
       "Gender.y           object\n",
       "age                 int64\n",
       "year.career         int64\n",
       "dtype: object"
      ]
     },
     "execution_count": 5,
     "metadata": {},
     "output_type": "execute_result"
    }
   ],
   "source": [
    "variable.dtypes"
   ]
  },
  {
   "cell_type": "code",
   "execution_count": 19,
   "id": "4b487479",
   "metadata": {},
   "outputs": [],
   "source": [
    "# Drop Uneccessarry Columns"
   ]
  },
  {
   "cell_type": "code",
   "execution_count": 7,
   "id": "87a492d2",
   "metadata": {},
   "outputs": [],
   "source": [
    "drop_columns = ['Gender.x','Full.Name', 'Korean.Name', 'K.Stage.Name', 'Second.Country', 'Height', 'Weight', 'Other.Group', 'Former.Group']\n",
    "variable.drop(drop_columns,axis = 1, inplace = True)"
   ]
  },
  {
   "cell_type": "code",
   "execution_count": 8,
   "id": "1a735b11",
   "metadata": {},
   "outputs": [
    {
     "data": {
      "text/html": [
       "<div>\n",
       "<style scoped>\n",
       "    .dataframe tbody tr th:only-of-type {\n",
       "        vertical-align: middle;\n",
       "    }\n",
       "\n",
       "    .dataframe tbody tr th {\n",
       "        vertical-align: top;\n",
       "    }\n",
       "\n",
       "    .dataframe thead th {\n",
       "        text-align: right;\n",
       "    }\n",
       "</style>\n",
       "<table border=\"1\" class=\"dataframe\">\n",
       "  <thead>\n",
       "    <tr style=\"text-align: right;\">\n",
       "      <th></th>\n",
       "      <th>Stage.Name</th>\n",
       "      <th>Group</th>\n",
       "      <th>ig_name</th>\n",
       "      <th>Followers</th>\n",
       "      <th>Date.of.Birth</th>\n",
       "      <th>Debut</th>\n",
       "      <th>Company</th>\n",
       "      <th>Country</th>\n",
       "      <th>Birthplace</th>\n",
       "      <th>Gender.y</th>\n",
       "      <th>age</th>\n",
       "      <th>year.career</th>\n",
       "    </tr>\n",
       "  </thead>\n",
       "  <tbody>\n",
       "    <tr>\n",
       "      <th>0</th>\n",
       "      <td>Ace</td>\n",
       "      <td>VAV</td>\n",
       "      <td>ace.vav</td>\n",
       "      <td>335439</td>\n",
       "      <td>1992-08-28</td>\n",
       "      <td>2015-10-31</td>\n",
       "      <td>A team</td>\n",
       "      <td>South Korea</td>\n",
       "      <td>NaN</td>\n",
       "      <td>M</td>\n",
       "      <td>30</td>\n",
       "      <td>7</td>\n",
       "    </tr>\n",
       "    <tr>\n",
       "      <th>1</th>\n",
       "      <td>Ahra</td>\n",
       "      <td>FAVORITE</td>\n",
       "      <td>ahra.view</td>\n",
       "      <td>12342</td>\n",
       "      <td>2001-02-21</td>\n",
       "      <td>2017-07-05</td>\n",
       "      <td>Astory</td>\n",
       "      <td>South Korea</td>\n",
       "      <td>Yeosu</td>\n",
       "      <td>F</td>\n",
       "      <td>22</td>\n",
       "      <td>6</td>\n",
       "    </tr>\n",
       "    <tr>\n",
       "      <th>2</th>\n",
       "      <td>Ahyoung</td>\n",
       "      <td>DAL SHABET</td>\n",
       "      <td>a_young91</td>\n",
       "      <td>10479</td>\n",
       "      <td>1991-05-26</td>\n",
       "      <td>2011-01-03</td>\n",
       "      <td>Happy Face</td>\n",
       "      <td>South Korea</td>\n",
       "      <td>Seoul</td>\n",
       "      <td>F</td>\n",
       "      <td>32</td>\n",
       "      <td>12</td>\n",
       "    </tr>\n",
       "    <tr>\n",
       "      <th>3</th>\n",
       "      <td>Alice</td>\n",
       "      <td>HELLO VENUS</td>\n",
       "      <td>hv_alice</td>\n",
       "      <td>11135</td>\n",
       "      <td>1990-03-21</td>\n",
       "      <td>2012-05-09</td>\n",
       "      <td>Fantagio</td>\n",
       "      <td>South Korea</td>\n",
       "      <td>Wonju</td>\n",
       "      <td>F</td>\n",
       "      <td>33</td>\n",
       "      <td>11</td>\n",
       "    </tr>\n",
       "    <tr>\n",
       "      <th>4</th>\n",
       "      <td>Amber</td>\n",
       "      <td>F(X)</td>\n",
       "      <td>ajol_llama</td>\n",
       "      <td>5519743</td>\n",
       "      <td>1992-09-18</td>\n",
       "      <td>2009-09-05</td>\n",
       "      <td>SM</td>\n",
       "      <td>USA</td>\n",
       "      <td>Los Angeles</td>\n",
       "      <td>F</td>\n",
       "      <td>30</td>\n",
       "      <td>13</td>\n",
       "    </tr>\n",
       "  </tbody>\n",
       "</table>\n",
       "</div>"
      ],
      "text/plain": [
       "  Stage.Name        Group     ig_name  Followers Date.of.Birth       Debut  \\\n",
       "0        Ace          VAV     ace.vav     335439    1992-08-28  2015-10-31   \n",
       "1       Ahra     FAVORITE   ahra.view      12342    2001-02-21  2017-07-05   \n",
       "2    Ahyoung   DAL SHABET   a_young91      10479    1991-05-26  2011-01-03   \n",
       "3      Alice  HELLO VENUS    hv_alice      11135    1990-03-21  2012-05-09   \n",
       "4      Amber         F(X)  ajol_llama    5519743    1992-09-18  2009-09-05   \n",
       "\n",
       "      Company      Country   Birthplace Gender.y  age  year.career  \n",
       "0      A team  South Korea          NaN        M   30            7  \n",
       "1      Astory  South Korea        Yeosu        F   22            6  \n",
       "2  Happy Face  South Korea        Seoul        F   32           12  \n",
       "3    Fantagio  South Korea        Wonju        F   33           11  \n",
       "4          SM          USA  Los Angeles        F   30           13  "
      ]
     },
     "execution_count": 8,
     "metadata": {},
     "output_type": "execute_result"
    }
   ],
   "source": [
    "variable.head()"
   ]
  },
  {
   "cell_type": "code",
   "execution_count": 20,
   "id": "827fac5e",
   "metadata": {},
   "outputs": [],
   "source": [
    "# Renaming Columns"
   ]
  },
  {
   "cell_type": "code",
   "execution_count": 11,
   "id": "66d85daa",
   "metadata": {},
   "outputs": [],
   "source": [
    "rename_columns  = {'Stage.Name' : 'Stage_Name', 'Group': 'Group', 'Followers': 'Followers', 'Date.of.Birth': 'Birthdate', 'Debut': 'Debut', 'Company': 'Company', 'Country': 'Country', 'Birthplace': 'Birthplace', 'Gender.y': 'Gender', 'year.career': 'Years_Active'}\n",
    "variable.rename(columns = rename_columns, inplace = True)"
   ]
  },
  {
   "cell_type": "code",
   "execution_count": 12,
   "id": "d4238d96",
   "metadata": {},
   "outputs": [
    {
     "data": {
      "text/html": [
       "<div>\n",
       "<style scoped>\n",
       "    .dataframe tbody tr th:only-of-type {\n",
       "        vertical-align: middle;\n",
       "    }\n",
       "\n",
       "    .dataframe tbody tr th {\n",
       "        vertical-align: top;\n",
       "    }\n",
       "\n",
       "    .dataframe thead th {\n",
       "        text-align: right;\n",
       "    }\n",
       "</style>\n",
       "<table border=\"1\" class=\"dataframe\">\n",
       "  <thead>\n",
       "    <tr style=\"text-align: right;\">\n",
       "      <th></th>\n",
       "      <th>stage_name</th>\n",
       "      <th>group</th>\n",
       "      <th>ig_name</th>\n",
       "      <th>followers</th>\n",
       "      <th>birthdate</th>\n",
       "      <th>debut</th>\n",
       "      <th>company</th>\n",
       "      <th>country</th>\n",
       "      <th>birthplace</th>\n",
       "      <th>gender</th>\n",
       "      <th>age</th>\n",
       "      <th>years_active</th>\n",
       "    </tr>\n",
       "  </thead>\n",
       "  <tbody>\n",
       "    <tr>\n",
       "      <th>0</th>\n",
       "      <td>Ace</td>\n",
       "      <td>VAV</td>\n",
       "      <td>ace.vav</td>\n",
       "      <td>335439</td>\n",
       "      <td>1992-08-28</td>\n",
       "      <td>2015-10-31</td>\n",
       "      <td>A team</td>\n",
       "      <td>South Korea</td>\n",
       "      <td>NaN</td>\n",
       "      <td>M</td>\n",
       "      <td>30</td>\n",
       "      <td>7</td>\n",
       "    </tr>\n",
       "    <tr>\n",
       "      <th>1</th>\n",
       "      <td>Ahra</td>\n",
       "      <td>FAVORITE</td>\n",
       "      <td>ahra.view</td>\n",
       "      <td>12342</td>\n",
       "      <td>2001-02-21</td>\n",
       "      <td>2017-07-05</td>\n",
       "      <td>Astory</td>\n",
       "      <td>South Korea</td>\n",
       "      <td>Yeosu</td>\n",
       "      <td>F</td>\n",
       "      <td>22</td>\n",
       "      <td>6</td>\n",
       "    </tr>\n",
       "    <tr>\n",
       "      <th>2</th>\n",
       "      <td>Ahyoung</td>\n",
       "      <td>DAL SHABET</td>\n",
       "      <td>a_young91</td>\n",
       "      <td>10479</td>\n",
       "      <td>1991-05-26</td>\n",
       "      <td>2011-01-03</td>\n",
       "      <td>Happy Face</td>\n",
       "      <td>South Korea</td>\n",
       "      <td>Seoul</td>\n",
       "      <td>F</td>\n",
       "      <td>32</td>\n",
       "      <td>12</td>\n",
       "    </tr>\n",
       "    <tr>\n",
       "      <th>3</th>\n",
       "      <td>Alice</td>\n",
       "      <td>HELLO VENUS</td>\n",
       "      <td>hv_alice</td>\n",
       "      <td>11135</td>\n",
       "      <td>1990-03-21</td>\n",
       "      <td>2012-05-09</td>\n",
       "      <td>Fantagio</td>\n",
       "      <td>South Korea</td>\n",
       "      <td>Wonju</td>\n",
       "      <td>F</td>\n",
       "      <td>33</td>\n",
       "      <td>11</td>\n",
       "    </tr>\n",
       "    <tr>\n",
       "      <th>4</th>\n",
       "      <td>Amber</td>\n",
       "      <td>F(X)</td>\n",
       "      <td>ajol_llama</td>\n",
       "      <td>5519743</td>\n",
       "      <td>1992-09-18</td>\n",
       "      <td>2009-09-05</td>\n",
       "      <td>SM</td>\n",
       "      <td>USA</td>\n",
       "      <td>Los Angeles</td>\n",
       "      <td>F</td>\n",
       "      <td>30</td>\n",
       "      <td>13</td>\n",
       "    </tr>\n",
       "  </tbody>\n",
       "</table>\n",
       "</div>"
      ],
      "text/plain": [
       "  stage_name        group     ig_name  followers   birthdate       debut  \\\n",
       "0        Ace          VAV     ace.vav     335439  1992-08-28  2015-10-31   \n",
       "1       Ahra     FAVORITE   ahra.view      12342  2001-02-21  2017-07-05   \n",
       "2    Ahyoung   DAL SHABET   a_young91      10479  1991-05-26  2011-01-03   \n",
       "3      Alice  HELLO VENUS    hv_alice      11135  1990-03-21  2012-05-09   \n",
       "4      Amber         F(X)  ajol_llama    5519743  1992-09-18  2009-09-05   \n",
       "\n",
       "      company      country   birthplace gender  age  years_active  \n",
       "0      A team  South Korea          NaN      M   30             7  \n",
       "1      Astory  South Korea        Yeosu      F   22             6  \n",
       "2  Happy Face  South Korea        Seoul      F   32            12  \n",
       "3    Fantagio  South Korea        Wonju      F   33            11  \n",
       "4          SM          USA  Los Angeles      F   30            13  "
      ]
     },
     "execution_count": 12,
     "metadata": {},
     "output_type": "execute_result"
    }
   ],
   "source": [
    "variable.head()"
   ]
  },
  {
   "cell_type": "code",
   "execution_count": 13,
   "id": "99870969",
   "metadata": {},
   "outputs": [
    {
     "data": {
      "text/html": [
       "<div>\n",
       "<style scoped>\n",
       "    .dataframe tbody tr th:only-of-type {\n",
       "        vertical-align: middle;\n",
       "    }\n",
       "\n",
       "    .dataframe tbody tr th {\n",
       "        vertical-align: top;\n",
       "    }\n",
       "\n",
       "    .dataframe thead th {\n",
       "        text-align: right;\n",
       "    }\n",
       "</style>\n",
       "<table border=\"1\" class=\"dataframe\">\n",
       "  <thead>\n",
       "    <tr style=\"text-align: right;\">\n",
       "      <th></th>\n",
       "      <th>followers</th>\n",
       "      <th>age</th>\n",
       "      <th>years_active</th>\n",
       "    </tr>\n",
       "  </thead>\n",
       "  <tbody>\n",
       "    <tr>\n",
       "      <th>count</th>\n",
       "      <td>4.060000e+02</td>\n",
       "      <td>406.000000</td>\n",
       "      <td>406.000000</td>\n",
       "    </tr>\n",
       "    <tr>\n",
       "      <th>mean</th>\n",
       "      <td>3.638716e+06</td>\n",
       "      <td>27.559113</td>\n",
       "      <td>8.357143</td>\n",
       "    </tr>\n",
       "    <tr>\n",
       "      <th>std</th>\n",
       "      <td>9.557985e+06</td>\n",
       "      <td>3.906336</td>\n",
       "      <td>3.471654</td>\n",
       "    </tr>\n",
       "    <tr>\n",
       "      <th>min</th>\n",
       "      <td>7.180000e+02</td>\n",
       "      <td>16.000000</td>\n",
       "      <td>1.000000</td>\n",
       "    </tr>\n",
       "    <tr>\n",
       "      <th>25%</th>\n",
       "      <td>8.228275e+04</td>\n",
       "      <td>25.000000</td>\n",
       "      <td>6.000000</td>\n",
       "    </tr>\n",
       "    <tr>\n",
       "      <th>50%</th>\n",
       "      <td>5.224690e+05</td>\n",
       "      <td>27.000000</td>\n",
       "      <td>8.000000</td>\n",
       "    </tr>\n",
       "    <tr>\n",
       "      <th>75%</th>\n",
       "      <td>3.321642e+06</td>\n",
       "      <td>30.000000</td>\n",
       "      <td>11.000000</td>\n",
       "    </tr>\n",
       "    <tr>\n",
       "      <th>max</th>\n",
       "      <td>9.333777e+07</td>\n",
       "      <td>41.000000</td>\n",
       "      <td>17.000000</td>\n",
       "    </tr>\n",
       "  </tbody>\n",
       "</table>\n",
       "</div>"
      ],
      "text/plain": [
       "          followers         age  years_active\n",
       "count  4.060000e+02  406.000000    406.000000\n",
       "mean   3.638716e+06   27.559113      8.357143\n",
       "std    9.557985e+06    3.906336      3.471654\n",
       "min    7.180000e+02   16.000000      1.000000\n",
       "25%    8.228275e+04   25.000000      6.000000\n",
       "50%    5.224690e+05   27.000000      8.000000\n",
       "75%    3.321642e+06   30.000000     11.000000\n",
       "max    9.333777e+07   41.000000     17.000000"
      ]
     },
     "execution_count": 13,
     "metadata": {},
     "output_type": "execute_result"
    }
   ],
   "source": [
    "variable.describe()"
   ]
  },
  {
   "cell_type": "code",
   "execution_count": 21,
   "id": "8f0404e0",
   "metadata": {},
   "outputs": [],
   "source": [
    "# How Many Kpop Idols are Available in this dataset?"
   ]
  },
  {
   "cell_type": "code",
   "execution_count": 14,
   "id": "9827ae28",
   "metadata": {},
   "outputs": [
    {
     "name": "stdout",
     "output_type": "stream",
     "text": [
      "There are 406 k-pop idols in this dataset.\n"
     ]
    }
   ],
   "source": [
    "idol, attributes = variable.shape\n",
    "print(f'There are {idol} k-pop idols in this dataset.')"
   ]
  },
  {
   "cell_type": "code",
   "execution_count": 41,
   "id": "9ccd585c",
   "metadata": {},
   "outputs": [],
   "source": [
    "# Are There any Duplicates?"
   ]
  },
  {
   "cell_type": "code",
   "execution_count": 15,
   "id": "32a823de",
   "metadata": {},
   "outputs": [
    {
     "name": "stdout",
     "output_type": "stream",
     "text": [
      "False\n"
     ]
    }
   ],
   "source": [
    "print(variable.index.duplicated().any())"
   ]
  },
  {
   "cell_type": "code",
   "execution_count": 16,
   "id": "cea1ae73",
   "metadata": {},
   "outputs": [
    {
     "data": {
      "text/plain": [
       "stage_name      object\n",
       "group           object\n",
       "ig_name         object\n",
       "followers        int64\n",
       "birthdate       object\n",
       "debut           object\n",
       "company         object\n",
       "country         object\n",
       "birthplace      object\n",
       "gender          object\n",
       "age              int64\n",
       "years_active     int64\n",
       "dtype: object"
      ]
     },
     "execution_count": 16,
     "metadata": {},
     "output_type": "execute_result"
    }
   ],
   "source": [
    "variable.dtypes"
   ]
  },
  {
   "cell_type": "markdown",
   "id": "f989aec9",
   "metadata": {},
   "source": [
    "# Data Analysis"
   ]
  },
  {
   "cell_type": "code",
   "execution_count": 22,
   "id": "6b2782c2",
   "metadata": {},
   "outputs": [],
   "source": [
    "import matplotlib.pyplot as plt"
   ]
  },
  {
   "cell_type": "code",
   "execution_count": 38,
   "id": "a2e38bca",
   "metadata": {},
   "outputs": [],
   "source": [
    "# Check genders to see how many genders there are represented"
   ]
  },
  {
   "cell_type": "code",
   "execution_count": 40,
   "id": "31c37647",
   "metadata": {},
   "outputs": [
    {
     "name": "stdout",
     "output_type": "stream",
     "text": [
      "2 genders\n"
     ]
    }
   ],
   "source": [
    "num_unique_genders = variable['gender'].nunique()\n",
    "print(f'{num_unique_genders} genders')"
   ]
  },
  {
   "cell_type": "code",
   "execution_count": 26,
   "id": "aa3d6099",
   "metadata": {},
   "outputs": [],
   "source": [
    "# Gender Distribution"
   ]
  },
  {
   "cell_type": "code",
   "execution_count": 32,
   "id": "667c3de6",
   "metadata": {},
   "outputs": [
    {
     "name": "stdout",
     "output_type": "stream",
     "text": [
      "There are 167 male idols in the dataset.\n",
      "There are 239 female idols in the dataset.\n"
     ]
    }
   ],
   "source": [
    "male_variable = variable[variable.gender == 'M']\n",
    "female_variable = variable[variable.gender == 'F']\n",
    "males, attributes = male_variable.shape\n",
    "print(f'There are {males} male idols in the dataset.')\n",
    "females, attributes = female_variable.shape\n",
    "print(f'There are {females} female idols in the dataset.')"
   ]
  },
  {
   "cell_type": "code",
   "execution_count": 33,
   "id": "f73ef529",
   "metadata": {},
   "outputs": [],
   "source": [
    "#Top 10 Followed by Individual "
   ]
  },
  {
   "cell_type": "code",
   "execution_count": 31,
   "id": "83265fbb",
   "metadata": {},
   "outputs": [
    {
     "name": "stdout",
     "output_type": "stream",
     "text": [
      "    stage_name      group           ig_name  followers   birthdate  \\\n",
      "198       Lisa  BLACKPINK      lalalalisa_m   93337766  1997-03-27   \n",
      "143     Jennie  BLACKPINK    jennierubyjane   78527157  1996-01-16   \n",
      "154      Jisoo  BLACKPINK         sooyaaa__   72397050  1995-01-03   \n",
      "342          V        BTS               thv   58541265  1995-12-30   \n",
      "150      Jimin        BTS               j.m   49385614  1995-10-13   \n",
      "129     J-Hope        BTS         uarmyhope   45880758  1994-02-18   \n",
      "151        Jin        BTS               jin   45165530  1992-12-04   \n",
      "259         RM        BTS             rkive   43681931  1994-09-12   \n",
      "77      Eunwoo      ASTRO         eunwo.o_c   36175751  1997-03-30   \n",
      "131    Jackson       GOT7  jacksonwang852g7   32016901  1994-03-28   \n",
      "\n",
      "          debut   company      country birthplace gender  age  years_active  \n",
      "198  2016-08-08        YG     Thailand    Bangkok      F   26             6  \n",
      "143  2016-08-08        YG  South Korea     Anyang      F   27             6  \n",
      "154  2016-08-08        YG  South Korea      Seoul      F   28             6  \n",
      "342  2013-06-13   Big Hit  South Korea      Daegu      M   27            10  \n",
      "150  2013-06-13   Big Hit  South Korea      Busan      M   27            10  \n",
      "129  2013-06-13   Big Hit  South Korea    Gwangju      M   29            10  \n",
      "151  2013-06-13   Big Hit  South Korea   Gwacheon      M   30            10  \n",
      "259  2013-06-13   Big Hit  South Korea      Ilsan      M   28            10  \n",
      "77   2016-02-23  Fantagio  South Korea      Gunpo      M   26             7  \n",
      "131  2014-01-16       JYP    Hong Kong  Hong Kong      M   29             9  \n"
     ]
    }
   ],
   "source": [
    "top_10_followed = variable.nlargest(10, 'followers')\n",
    "print(top_10_followed)"
   ]
  },
  {
   "cell_type": "code",
   "execution_count": 35,
   "id": "d4b095e4",
   "metadata": {},
   "outputs": [
    {
     "data": {
      "image/png": "[encoded data removed]",
      "text/plain": [
       "<Figure size 640x480 with 1 Axes>"
      ]
     },
     "metadata": {},
     "output_type": "display_data"
    }
   ],
   "source": [
    "top_10_followed.plot(x = 'stage_name', y = 'followers', kind = 'bar', legend = False)\n",
    "plt.xlabel('Stage Name')\n",
    "plt.ylabel('Followers')\n",
    "plt.show()"
   ]
  },
  {
   "cell_type": "code",
   "execution_count": null,
   "id": "a77f747a",
   "metadata": {},
   "outputs": [],
   "source": [
    "# Top 3 Followed by Group "
   ]
  },
  {
   "cell_type": "code",
   "execution_count": 34,
   "id": "fa22b32d",
   "metadata": {},
   "outputs": [
    {
     "name": "stdout",
     "output_type": "stream",
     "text": [
      "group\n",
      "BLACKPINK    244261973\n",
      "BTS          242655098\n",
      "EXO          117263202\n",
      "Name: followers, dtype: int64\n"
     ]
    }
   ],
   "source": [
    "top_3_followed_groups = variable.groupby('group')['followers'].sum().nlargest(3)\n",
    "print(top_3_followed_groups)"
   ]
  },
  {
   "cell_type": "code",
   "execution_count": 37,
   "id": "02c8bbf8",
   "metadata": {},
   "outputs": [
    {
     "data": {
      "image/png": "[encoded data removed]",
      "text/plain": [
       "<Figure size 640x480 with 1 Axes>"
      ]
     },
     "metadata": {},
     "output_type": "display_data"
    }
   ],
   "source": [
    "top_3_followed_groups.plot(x = 'group', y = 'followers', kind = 'bar', legend = False)\n",
    "plt.xlabel('Group')\n",
    "plt.ylabel('Followers')\n",
    "plt.show()"
   ]
  },
  {
   "cell_type": "code",
   "execution_count": null,
   "id": "43ba2ed7",
   "metadata": {},
   "outputs": [],
   "source": []
  }
 ],
 "metadata": {
  "kernelspec": {
   "display_name": "Python 3 (ipykernel)",
   "language": "python",
   "name": "python3"
  },
  "language_info": {
   "codemirror_mode": {
    "name": "ipython",
    "version": 3
   },
   "file_extension": ".py",
   "mimetype": "text/x-python",
   "name": "python",
   "nbconvert_exporter": "python",
   "pygments_lexer": "ipython3",
   "version": "3.11.5"
  }
 },
 "nbformat": 4,
 "nbformat_minor": 5
}
